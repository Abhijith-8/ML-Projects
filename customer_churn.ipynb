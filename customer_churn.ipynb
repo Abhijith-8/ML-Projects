{
 "cells": [
  {
   "cell_type": "code",
   "execution_count": 77,
   "id": "32fc2493-6363-4836-8c55-8ac89afb6f3a",
   "metadata": {},
   "outputs": [],
   "source": [
    "import pandas as pd\n",
    "import numpy as np\n",
    "from sklearn.preprocessing import StandardScaler,LabelEncoder\n",
    "from sklearn.linear_model import LogisticRegression\n",
    "from sklearn.svm import SVC\n",
    "from sklearn.model_selection import train_test_split\n",
    "from sklearn.metrics import accuracy_score,confusion_matrix,classification_report"
   ]
  },
  {
   "cell_type": "code",
   "execution_count": 78,
   "id": "a56ed4f0-8296-4512-ac76-294ca52924e7",
   "metadata": {},
   "outputs": [],
   "source": [
    "df=pd.read_csv(\"Datasets//customer_churn_dataset-testing-master.csv\")"
   ]
  },
  {
   "cell_type": "code",
   "execution_count": 79,
   "id": "dc66efd1-63ca-444d-8318-f49cb1867e00",
   "metadata": {},
   "outputs": [
    {
     "data": {
      "text/html": [
       "<div>\n",
       "<style scoped>\n",
       "    .dataframe tbody tr th:only-of-type {\n",
       "        vertical-align: middle;\n",
       "    }\n",
       "\n",
       "    .dataframe tbody tr th {\n",
       "        vertical-align: top;\n",
       "    }\n",
       "\n",
       "    .dataframe thead th {\n",
       "        text-align: right;\n",
       "    }\n",
       "</style>\n",
       "<table border=\"1\" class=\"dataframe\">\n",
       "  <thead>\n",
       "    <tr style=\"text-align: right;\">\n",
       "      <th></th>\n",
       "      <th>CustomerID</th>\n",
       "      <th>Age</th>\n",
       "      <th>Gender</th>\n",
       "      <th>Tenure</th>\n",
       "      <th>Usage Frequency</th>\n",
       "      <th>Support Calls</th>\n",
       "      <th>Payment Delay</th>\n",
       "      <th>Subscription Type</th>\n",
       "      <th>Contract Length</th>\n",
       "      <th>Total Spend</th>\n",
       "      <th>Last Interaction</th>\n",
       "      <th>Churn</th>\n",
       "    </tr>\n",
       "  </thead>\n",
       "  <tbody>\n",
       "    <tr>\n",
       "      <th>0</th>\n",
       "      <td>1</td>\n",
       "      <td>22</td>\n",
       "      <td>Female</td>\n",
       "      <td>25</td>\n",
       "      <td>14</td>\n",
       "      <td>4</td>\n",
       "      <td>27</td>\n",
       "      <td>Basic</td>\n",
       "      <td>Monthly</td>\n",
       "      <td>598</td>\n",
       "      <td>9</td>\n",
       "      <td>1</td>\n",
       "    </tr>\n",
       "    <tr>\n",
       "      <th>1</th>\n",
       "      <td>2</td>\n",
       "      <td>41</td>\n",
       "      <td>Female</td>\n",
       "      <td>28</td>\n",
       "      <td>28</td>\n",
       "      <td>7</td>\n",
       "      <td>13</td>\n",
       "      <td>Standard</td>\n",
       "      <td>Monthly</td>\n",
       "      <td>584</td>\n",
       "      <td>20</td>\n",
       "      <td>0</td>\n",
       "    </tr>\n",
       "    <tr>\n",
       "      <th>2</th>\n",
       "      <td>3</td>\n",
       "      <td>47</td>\n",
       "      <td>Male</td>\n",
       "      <td>27</td>\n",
       "      <td>10</td>\n",
       "      <td>2</td>\n",
       "      <td>29</td>\n",
       "      <td>Premium</td>\n",
       "      <td>Annual</td>\n",
       "      <td>757</td>\n",
       "      <td>21</td>\n",
       "      <td>0</td>\n",
       "    </tr>\n",
       "    <tr>\n",
       "      <th>3</th>\n",
       "      <td>4</td>\n",
       "      <td>35</td>\n",
       "      <td>Male</td>\n",
       "      <td>9</td>\n",
       "      <td>12</td>\n",
       "      <td>5</td>\n",
       "      <td>17</td>\n",
       "      <td>Premium</td>\n",
       "      <td>Quarterly</td>\n",
       "      <td>232</td>\n",
       "      <td>18</td>\n",
       "      <td>0</td>\n",
       "    </tr>\n",
       "    <tr>\n",
       "      <th>4</th>\n",
       "      <td>5</td>\n",
       "      <td>53</td>\n",
       "      <td>Female</td>\n",
       "      <td>58</td>\n",
       "      <td>24</td>\n",
       "      <td>9</td>\n",
       "      <td>2</td>\n",
       "      <td>Standard</td>\n",
       "      <td>Annual</td>\n",
       "      <td>533</td>\n",
       "      <td>18</td>\n",
       "      <td>0</td>\n",
       "    </tr>\n",
       "  </tbody>\n",
       "</table>\n",
       "</div>"
      ],
      "text/plain": [
       "   CustomerID  Age  Gender  Tenure  Usage Frequency  Support Calls  \\\n",
       "0           1   22  Female      25               14              4   \n",
       "1           2   41  Female      28               28              7   \n",
       "2           3   47    Male      27               10              2   \n",
       "3           4   35    Male       9               12              5   \n",
       "4           5   53  Female      58               24              9   \n",
       "\n",
       "   Payment Delay Subscription Type Contract Length  Total Spend  \\\n",
       "0             27             Basic         Monthly          598   \n",
       "1             13          Standard         Monthly          584   \n",
       "2             29           Premium          Annual          757   \n",
       "3             17           Premium       Quarterly          232   \n",
       "4              2          Standard          Annual          533   \n",
       "\n",
       "   Last Interaction  Churn  \n",
       "0                 9      1  \n",
       "1                20      0  \n",
       "2                21      0  \n",
       "3                18      0  \n",
       "4                18      0  "
      ]
     },
     "execution_count": 79,
     "metadata": {},
     "output_type": "execute_result"
    }
   ],
   "source": [
    "df.head()"
   ]
  },
  {
   "cell_type": "code",
   "execution_count": 80,
   "id": "0739d29a-d287-4d7c-a961-067a81edcaf7",
   "metadata": {},
   "outputs": [
    {
     "name": "stdout",
     "output_type": "stream",
     "text": [
      "(64374, 12)\n",
      "Index(['CustomerID', 'Age', 'Gender', 'Tenure', 'Usage Frequency',\n",
      "       'Support Calls', 'Payment Delay', 'Subscription Type',\n",
      "       'Contract Length', 'Total Spend', 'Last Interaction', 'Churn'],\n",
      "      dtype='object')\n",
      "CustomerID           0\n",
      "Age                  0\n",
      "Gender               0\n",
      "Tenure               0\n",
      "Usage Frequency      0\n",
      "Support Calls        0\n",
      "Payment Delay        0\n",
      "Subscription Type    0\n",
      "Contract Length      0\n",
      "Total Spend          0\n",
      "Last Interaction     0\n",
      "Churn                0\n",
      "dtype: int64\n"
     ]
    }
   ],
   "source": [
    "print(df.shape)\n",
    "print(df.columns)\n",
    "# print(df.describe)\n",
    "print(df.isnull().sum())\n",
    "df.drop([\"CustomerID\"],axis=1,inplace=True)"
   ]
  },
  {
   "cell_type": "code",
   "execution_count": 81,
   "id": "49ece15b-33b3-440c-ac75-26b2b452f32d",
   "metadata": {},
   "outputs": [],
   "source": [
    "Lb=LabelEncoder()\n",
    "df[\"Gender\"]=Lb.fit_transform(df[\"Gender\"])\n",
    "df[\"Subscription Type\"]=Lb.fit_transform(df[\"Subscription Type\"])\n",
    "df[\"Contract Length\"]=Lb.fit_transform(df[\"Contract Length\"])"
   ]
  },
  {
   "cell_type": "code",
   "execution_count": 82,
   "id": "889bd7f9-0b9d-4152-8cf1-3eb6bf0fb5e3",
   "metadata": {},
   "outputs": [],
   "source": [
    "x=df.drop([\"Churn\"],axis=1)\n",
    "y=df[\"Churn\"]\n",
    "x_train,x_test,y_train,y_test=train_test_split(x,y,random_state=42,test_size=0.3)\n",
    "ss=StandardScaler()\n",
    "x_train=ss.fit_transform(x_train)\n",
    "x_test=ss.transform(x_test)"
   ]
  },
  {
   "cell_type": "code",
   "execution_count": 83,
   "id": "a2785669-0d54-4853-954a-2675e418555c",
   "metadata": {},
   "outputs": [],
   "source": [
    "# model=LogisticRegression()\n",
    "model=SVC()\n",
    "model.fit(x_train,y_train)\n",
    "y_pred=model.predict(x_test)"
   ]
  },
  {
   "cell_type": "code",
   "execution_count": 84,
   "id": "abd81f5a-2271-475b-bf1a-1d851d92e82a",
   "metadata": {},
   "outputs": [
    {
     "name": "stdout",
     "output_type": "stream",
     "text": [
      "Accuracy : 94.0 %\n",
      "Confusion Matrix: [[9437  697]\n",
      " [ 408 8771]]\n",
      "Classification Report:               precision    recall  f1-score   support\n",
      "\n",
      "           0       0.96      0.93      0.94     10134\n",
      "           1       0.93      0.96      0.94      9179\n",
      "\n",
      "    accuracy                           0.94     19313\n",
      "   macro avg       0.94      0.94      0.94     19313\n",
      "weighted avg       0.94      0.94      0.94     19313\n",
      "\n"
     ]
    }
   ],
   "source": [
    "acc=accuracy_score(y_test,y_pred)\n",
    "print(\"Accuracy :\",round(acc,2)*100,\"%\")\n",
    "\n",
    "conf_matrix = confusion_matrix(y_test, y_pred)\n",
    "print('Confusion Matrix:',conf_matrix)\n",
    "\n",
    "class_report = classification_report(y_test, y_pred)\n",
    "print('Classification Report:',class_report)"
   ]
  }
 ],
 "metadata": {
  "kernelspec": {
   "display_name": "Python [conda env:base] *",
   "language": "python",
   "name": "conda-base-py"
  },
  "language_info": {
   "codemirror_mode": {
    "name": "ipython",
    "version": 3
   },
   "file_extension": ".py",
   "mimetype": "text/x-python",
   "name": "python",
   "nbconvert_exporter": "python",
   "pygments_lexer": "ipython3",
   "version": "3.12.7"
  }
 },
 "nbformat": 4,
 "nbformat_minor": 5
}
