{
 "cells": [
  {
   "cell_type": "code",
   "execution_count": 371,
   "id": "7acbc5c5-d235-464e-afe3-98f66926d8ae",
   "metadata": {},
   "outputs": [],
   "source": [
    "\n",
    "# import nltk\n",
    "# nltk.download('stopwords')"
   ]
  },
  {
   "cell_type": "code",
   "execution_count": 407,
   "id": "4527fe4b-fea8-4e45-91fc-03da031c9436",
   "metadata": {},
   "outputs": [],
   "source": [
    "import pandas as pd\n",
    "import numpy as np\n",
    "import re\n",
    "from sklearn.linear_model import LogisticRegression\n",
    "from nltk.corpus import stopwords\n",
    "import string\n",
    "from sklearn.feature_extraction.text import TfidfVectorizer\n",
    "\n",
    "from sklearn.model_selection import train_test_split\n",
    "\n",
    "from sklearn.naive_bayes import MultinomialNB\n",
    "from sklearn.linear_model import LogisticRegression\n",
    "from sklearn.ensemble import RandomForestClassifier\n",
    "\n",
    "from sklearn.metrics import accuracy_score, classification_report,confusion_matrix,ConfusionMatrixDisplay\n",
    "from sklearn.preprocessing import LabelEncoder\n",
    "\n",
    "import seaborn as sns\n",
    "import matplotlib.pyplot as plt"
   ]
  },
  {
   "cell_type": "code",
   "execution_count": 373,
   "id": "827c0147-ab2c-4969-9900-a92ede06cad7",
   "metadata": {},
   "outputs": [],
   "source": [
    "df=pd.read_csv('Datasets\\\\senimental analysis.csv',encoding='latin1')\n"
   ]
  },
  {
   "cell_type": "code",
   "execution_count": 374,
   "id": "a2fc9e98-23fa-4103-b5f7-57a86d0d8dd9",
   "metadata": {},
   "outputs": [],
   "source": [
    "def Preprcessing(text):\n",
    "    text=text.lower()\n",
    "    text=re.sub(f\"[{string.punctuation}]\",\"\",text)\n",
    "    text = ' '.join([word for word in text.split() if word not in stopwords.words('english')])\n",
    "    return text\n",
    "df[\"cleaned_review\"]=df[\"text\"].astype(str).apply(Preprcessing)"
   ]
  },
  {
   "cell_type": "code",
   "execution_count": 375,
   "id": "a4977044-a8de-4535-9055-6490e7a730d8",
   "metadata": {},
   "outputs": [
    {
     "data": {
      "text/html": [
       "<div>\n",
       "<style scoped>\n",
       "    .dataframe tbody tr th:only-of-type {\n",
       "        vertical-align: middle;\n",
       "    }\n",
       "\n",
       "    .dataframe tbody tr th {\n",
       "        vertical-align: top;\n",
       "    }\n",
       "\n",
       "    .dataframe thead th {\n",
       "        text-align: right;\n",
       "    }\n",
       "</style>\n",
       "<table border=\"1\" class=\"dataframe\">\n",
       "  <thead>\n",
       "    <tr style=\"text-align: right;\">\n",
       "      <th></th>\n",
       "      <th>textID</th>\n",
       "      <th>text</th>\n",
       "      <th>sentiment</th>\n",
       "      <th>Time of Tweet</th>\n",
       "      <th>Age of User</th>\n",
       "      <th>Country</th>\n",
       "      <th>Population -2020</th>\n",
       "      <th>Land Area (Km²)</th>\n",
       "      <th>Density (P/Km²)</th>\n",
       "      <th>cleaned_review</th>\n",
       "    </tr>\n",
       "  </thead>\n",
       "  <tbody>\n",
       "    <tr>\n",
       "      <th>0</th>\n",
       "      <td>f87dea47db</td>\n",
       "      <td>Last session of the day  http://twitpic.com/67ezh</td>\n",
       "      <td>neutral</td>\n",
       "      <td>morning</td>\n",
       "      <td>0-20</td>\n",
       "      <td>Afghanistan</td>\n",
       "      <td>38928346.0</td>\n",
       "      <td>652860.0</td>\n",
       "      <td>60.0</td>\n",
       "      <td>last session day httptwitpiccom67ezh</td>\n",
       "    </tr>\n",
       "    <tr>\n",
       "      <th>1</th>\n",
       "      <td>96d74cb729</td>\n",
       "      <td>Shanghai is also really exciting (precisely -...</td>\n",
       "      <td>positive</td>\n",
       "      <td>noon</td>\n",
       "      <td>21-30</td>\n",
       "      <td>Albania</td>\n",
       "      <td>2877797.0</td>\n",
       "      <td>27400.0</td>\n",
       "      <td>105.0</td>\n",
       "      <td>shanghai also really exciting precisely skyscr...</td>\n",
       "    </tr>\n",
       "    <tr>\n",
       "      <th>2</th>\n",
       "      <td>eee518ae67</td>\n",
       "      <td>Recession hit Veronique Branquinho, she has to...</td>\n",
       "      <td>negative</td>\n",
       "      <td>night</td>\n",
       "      <td>31-45</td>\n",
       "      <td>Algeria</td>\n",
       "      <td>43851044.0</td>\n",
       "      <td>2381740.0</td>\n",
       "      <td>18.0</td>\n",
       "      <td>recession hit veronique branquinho quit compan...</td>\n",
       "    </tr>\n",
       "    <tr>\n",
       "      <th>3</th>\n",
       "      <td>01082688c6</td>\n",
       "      <td>happy bday!</td>\n",
       "      <td>positive</td>\n",
       "      <td>morning</td>\n",
       "      <td>46-60</td>\n",
       "      <td>Andorra</td>\n",
       "      <td>77265.0</td>\n",
       "      <td>470.0</td>\n",
       "      <td>164.0</td>\n",
       "      <td>happy bday</td>\n",
       "    </tr>\n",
       "    <tr>\n",
       "      <th>4</th>\n",
       "      <td>33987a8ee5</td>\n",
       "      <td>http://twitpic.com/4w75p - I like it!!</td>\n",
       "      <td>positive</td>\n",
       "      <td>noon</td>\n",
       "      <td>60-70</td>\n",
       "      <td>Angola</td>\n",
       "      <td>32866272.0</td>\n",
       "      <td>1246700.0</td>\n",
       "      <td>26.0</td>\n",
       "      <td>httptwitpiccom4w75p like</td>\n",
       "    </tr>\n",
       "  </tbody>\n",
       "</table>\n",
       "</div>"
      ],
      "text/plain": [
       "       textID                                               text sentiment  \\\n",
       "0  f87dea47db  Last session of the day  http://twitpic.com/67ezh   neutral   \n",
       "1  96d74cb729   Shanghai is also really exciting (precisely -...  positive   \n",
       "2  eee518ae67  Recession hit Veronique Branquinho, she has to...  negative   \n",
       "3  01082688c6                                        happy bday!  positive   \n",
       "4  33987a8ee5             http://twitpic.com/4w75p - I like it!!  positive   \n",
       "\n",
       "  Time of Tweet Age of User      Country  Population -2020  Land Area (Km²)  \\\n",
       "0       morning        0-20  Afghanistan        38928346.0         652860.0   \n",
       "1          noon       21-30      Albania         2877797.0          27400.0   \n",
       "2         night       31-45      Algeria        43851044.0        2381740.0   \n",
       "3       morning       46-60      Andorra           77265.0            470.0   \n",
       "4          noon       60-70       Angola        32866272.0        1246700.0   \n",
       "\n",
       "   Density (P/Km²)                                     cleaned_review  \n",
       "0             60.0               last session day httptwitpiccom67ezh  \n",
       "1            105.0  shanghai also really exciting precisely skyscr...  \n",
       "2             18.0  recession hit veronique branquinho quit compan...  \n",
       "3            164.0                                         happy bday  \n",
       "4             26.0                           httptwitpiccom4w75p like  "
      ]
     },
     "execution_count": 375,
     "metadata": {},
     "output_type": "execute_result"
    }
   ],
   "source": [
    "df.head()"
   ]
  },
  {
   "cell_type": "code",
   "execution_count": 376,
   "id": "c8c3f982-61a0-4a27-8c26-4cc4c1c3a5f9",
   "metadata": {},
   "outputs": [
    {
     "name": "stdout",
     "output_type": "stream",
     "text": [
      "Index(['textID', 'text', 'sentiment', 'Time of Tweet', 'Age of User',\n",
      "       'Country', 'Population -2020', 'Land Area (Km²)', 'Density (P/Km²)',\n",
      "       'cleaned_review'],\n",
      "      dtype='object')\n",
      "textID              1281\n",
      "text                1281\n",
      "sentiment           1281\n",
      "Time of Tweet       1281\n",
      "Age of User         1281\n",
      "Country             1281\n",
      "Population -2020    1281\n",
      "Land Area (Km²)     1281\n",
      "Density (P/Km²)     1281\n",
      "cleaned_review         0\n",
      "dtype: int64\n",
      "(4815, 10)\n",
      "sentiment\n",
      "neutral     1430\n",
      "positive    1103\n",
      "negative    1001\n",
      "Name: count, dtype: int64\n"
     ]
    }
   ],
   "source": [
    "print(df.columns)\n",
    "print(df.isnull().sum())\n",
    "print(df.shape)\n",
    "print(df['sentiment'].value_counts())"
   ]
  },
  {
   "cell_type": "code",
   "execution_count": 377,
   "id": "87c797b3-ee02-4d3e-b395-5e9e186d4565",
   "metadata": {},
   "outputs": [
    {
     "data": {
      "text/plain": [
       "<Axes: xlabel='sentiment', ylabel='count'>"
      ]
     },
     "execution_count": 377,
     "metadata": {},
     "output_type": "execute_result"
    },
    {
     "data": {
      "image/png": "[encoded data removed]",
      "text/plain": [
       "<Figure size 640x480 with 1 Axes>"
      ]
     },
     "metadata": {},
     "output_type": "display_data"
    }
   ],
   "source": [
    "sns.countplot(x=\"sentiment\", data=df, palette=\"bright\", hue=\"sentiment\", legend=False)"
   ]
  },
  {
   "cell_type": "code",
   "execution_count": 378,
   "id": "3d870493-5f03-435d-9282-6c2e64dc540c",
   "metadata": {},
   "outputs": [],
   "source": [
    "df = df.dropna(axis=0)"
   ]
  },
  {
   "cell_type": "code",
   "execution_count": null,
   "id": "8c80a870-1335-401f-8f77-e63cfcd7341e",
   "metadata": {},
   "outputs": [],
   "source": []
  },
  {
   "cell_type": "code",
   "execution_count": 379,
   "id": "c549f74c-dd6b-49b3-b8e9-743238b35f1c",
   "metadata": {},
   "outputs": [
    {
     "name": "stdout",
     "output_type": "stream",
     "text": [
      "sentiment\n",
      "1    1430\n",
      "2    1103\n",
      "0    1001\n",
      "Name: count, dtype: int64\n"
     ]
    }
   ],
   "source": [
    "lb=LabelEncoder()\n",
    "df['sentiment']=lb.fit_transform(df['sentiment'])\n",
    "x=df['cleaned_review']\n",
    "y=df['sentiment']\n",
    "x_train, x_test, y_train, y_test = train_test_split(x,y, test_size=0.2, random_state=42)\n",
    "\n",
    "\n",
    "vectorizer=TfidfVectorizer(max_features=5000,stop_words='english')\n",
    "x_train_tfidf = vectorizer.fit_transform(x_train)\n",
    "x_test_tfidf = vectorizer.transform(x_test)\n",
    "print(df['sentiment'].value_counts())"
   ]
  },
  {
   "cell_type": "code",
   "execution_count": 380,
   "id": "b5ff9747-9c5a-467c-af17-3618568bdb6d",
   "metadata": {
    "scrolled": true
   },
   "outputs": [],
   "source": [
    "from imblearn.over_sampling import SMOTE\n",
    "\n",
    "smote = SMOTE(random_state=42)\n",
    "x_resampled, y_resampled = smote.fit_resample(x_train_tfidf, y_train)\n"
   ]
  },
  {
   "cell_type": "code",
   "execution_count": null,
   "id": "2d8839b1-b1f1-4100-a00a-8c203a46bd53",
   "metadata": {},
   "outputs": [],
   "source": []
  },
  {
   "cell_type": "code",
   "execution_count": 397,
   "id": "64de6a49-8625-4ea7-b936-bb76fd73a606",
   "metadata": {},
   "outputs": [],
   "source": [
    "model=LogisticRegression()\n",
    "# model=MultinomialNB()\n",
    "# model=RandomForestClassifier(n_estimators=40,random_state=42)\n",
    "model.fit(x_resampled, y_resampled)\n",
    "y_pred=model.predict(x_test_tfidf)"
   ]
  },
  {
   "cell_type": "code",
   "execution_count": 399,
   "id": "c310ab52-f580-4a7c-becc-67818509a3dc",
   "metadata": {},
   "outputs": [
    {
     "name": "stdout",
     "output_type": "stream",
     "text": [
      "0.6449787835926449\n",
      "sentiment\n",
      "1    286\n",
      "2    214\n",
      "0    207\n",
      "Name: count, dtype: int64\n",
      "0\n",
      "1    309\n",
      "2    207\n",
      "0    191\n",
      "Name: count, dtype: int64\n"
     ]
    }
   ],
   "source": [
    "acc=accuracy_score(y_test,y_pred)\n",
    "print(acc)\n",
    "print(y_test.value_counts())\n",
    "y_pred1=pd.DataFrame(y_pred)\n",
    "print(y_pred1.value_counts())"
   ]
  },
  {
   "cell_type": "code",
   "execution_count": 409,
   "id": "8cc497ff-9426-4cf7-9b62-11d14ee1ff9e",
   "metadata": {},
   "outputs": [
    {
     "name": "stdout",
     "output_type": "stream",
     "text": [
      "[[123  67  17]\n",
      " [ 53 188  45]\n",
      " [ 15  54 145]]\n"
     ]
    },
    {
     "data": {
      "image/png": "[encoded data removed]",
      "text/plain": [
       "<Figure size 640x480 with 2 Axes>"
      ]
     },
     "metadata": {},
     "output_type": "display_data"
    }
   ],
   "source": [
    "from sklearn.metrics import confusion_matrix, ConfusionMatrixDisplay\n",
    "\n",
    "cm = confusion_matrix(y_test,y_pred)\n",
    "print(cm)\n",
    "disp = ConfusionMatrixDisplay(confusion_matrix=cm, display_labels=[\"nutral\",\"positive\",\"negetive\"])\n",
    "disp.plot(cmap=\"Blues\")\n",
    "plt.title(\"Confusion Matrix\")\n",
    "plt.show()"
   ]
  },
  {
   "cell_type": "code",
   "execution_count": 421,
   "id": "8c5df18e-80ad-4e14-8877-6226caefd9ef",
   "metadata": {},
   "outputs": [
    {
     "name": "stdin",
     "output_type": "stream",
     "text": [
      "Paste Review Paste Review very bad product\n"
     ]
    },
    {
     "name": "stdout",
     "output_type": "stream",
     "text": [
      "Negative\n"
     ]
    }
   ],
   "source": [
    "a=vectorizer.transform([input(\"Paste Review\")])\n",
    "pred=model.predict(a)\n",
    "\n",
    "if pred==[0]:\n",
    "    print(\"Negative!\")\n",
    "elif pred==[1]:\n",
    "    print(\"nutral!\")\n",
    "elif pred==[2]:\n",
    "    print(\"positive!\")"
   ]
  }
 ],
 "metadata": {
  "kernelspec": {
   "display_name": "Python [conda env:base] *",
   "language": "python",
   "name": "conda-base-py"
  },
  "language_info": {
   "codemirror_mode": {
    "name": "ipython",
    "version": 3
   },
   "file_extension": ".py",
   "mimetype": "text/x-python",
   "name": "python",
   "nbconvert_exporter": "python",
   "pygments_lexer": "ipython3",
   "version": "3.12.7"
  }
 },
 "nbformat": 4,
 "nbformat_minor": 5
}
