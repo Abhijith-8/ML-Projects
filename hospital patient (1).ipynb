{
 "cells": [
  {
   "cell_type": "code",
   "execution_count": 1,
   "id": "1cda2136-14e4-4795-9871-65f4d5e56a46",
   "metadata": {},
   "outputs": [
    {
     "name": "stdout",
     "output_type": "stream",
     "text": [
      "     Patient_ID  Age  Gender          Condition                  Procedure  \\\n",
      "0             1   45  Female      Heart Disease                Angioplasty   \n",
      "1             2   60    Male           Diabetes            Insulin Therapy   \n",
      "2             3   32  Female      Fractured Arm           X-Ray and Splint   \n",
      "3             4   75    Male             Stroke     CT Scan and Medication   \n",
      "4             5   50  Female             Cancer   Surgery and Chemotherapy   \n",
      "..          ...  ...     ...                ...                        ...   \n",
      "979         996   68    Male       Hypertension  Medication and Counseling   \n",
      "980         997   45  Female       Appendicitis               Appendectomy   \n",
      "981         998   40    Male      Fractured Leg  Cast and Physical Therapy   \n",
      "982         999   78  Female       Heart Attack    Cardiac Catheterization   \n",
      "983        1000   25    Male  Allergic Reaction      Epinephrine Injection   \n",
      "\n",
      "      Cost  Length_of_Stay Readmission    Outcome  Satisfaction  \n",
      "0    15000               5          No  Recovered             4  \n",
      "1     2000               3         Yes     Stable             3  \n",
      "2      500               1          No  Recovered             5  \n",
      "3    10000               7         Yes     Stable             2  \n",
      "4    25000              10          No  Recovered             4  \n",
      "..     ...             ...         ...        ...           ...  \n",
      "979   1000              70          No     Stable             4  \n",
      "980   8000              72          No  Recovered             3  \n",
      "981   3000              72          No  Recovered             4  \n",
      "982  18000              74         Yes     Stable             2  \n",
      "983    100              68          No  Recovered             5  \n",
      "\n",
      "[984 rows x 10 columns]\n"
     ]
    }
   ],
   "source": [
    "import pandas as pd\n",
    "import numpy as np\n",
    "import matplotlib.pyplot as plt\n",
    "import seaborn as sns\n",
    "from sklearn.model_selection import train_test_split\n",
    "from sklearn.preprocessing import LabelEncoder\n",
    "from sklearn.preprocessing import StandardScaler\n",
    "from sklearn.linear_model import LogisticRegression\n",
    "from sklearn.metrics import accuracy_score, confusion_matrix, classification_report\n",
    "df=pd.read_csv(\"C:\\\\Users\\\\user\\\\Downloads\\\\hospital data analysis.csv\")\n",
    "print(df)"
   ]
  },
  {
   "cell_type": "code",
   "execution_count": 2,
   "id": "fa32e493-3511-413d-9316-f8a430c0bd70",
   "metadata": {},
   "outputs": [
    {
     "name": "stdout",
     "output_type": "stream",
     "text": [
      "     Patient_ID  Age  Gender          Condition                  Procedure  \\\n",
      "0             1   45  Female      Heart Disease                Angioplasty   \n",
      "1             2   60    Male           Diabetes            Insulin Therapy   \n",
      "2             3   32  Female      Fractured Arm           X-Ray and Splint   \n",
      "3             4   75    Male             Stroke     CT Scan and Medication   \n",
      "4             5   50  Female             Cancer   Surgery and Chemotherapy   \n",
      "..          ...  ...     ...                ...                        ...   \n",
      "979         996   68    Male       Hypertension  Medication and Counseling   \n",
      "980         997   45  Female       Appendicitis               Appendectomy   \n",
      "981         998   40    Male      Fractured Leg  Cast and Physical Therapy   \n",
      "982         999   78  Female       Heart Attack    Cardiac Catheterization   \n",
      "983        1000   25    Male  Allergic Reaction      Epinephrine Injection   \n",
      "\n",
      "      Cost  Length_of_Stay Readmission    Outcome  Satisfaction  \n",
      "0    15000               5          No  Recovered             4  \n",
      "1     2000               3         Yes     Stable             3  \n",
      "2      500               1          No  Recovered             5  \n",
      "3    10000               7         Yes     Stable             2  \n",
      "4    25000              10          No  Recovered             4  \n",
      "..     ...             ...         ...        ...           ...  \n",
      "979   1000              70          No     Stable             4  \n",
      "980   8000              72          No  Recovered             3  \n",
      "981   3000              72          No  Recovered             4  \n",
      "982  18000              74         Yes     Stable             2  \n",
      "983    100              68          No  Recovered             5  \n",
      "\n",
      "[984 rows x 10 columns]\n",
      "   Patient_ID  Age  Gender      Condition                 Procedure   Cost  \\\n",
      "0           1   45  Female  Heart Disease               Angioplasty  15000   \n",
      "1           2   60    Male       Diabetes           Insulin Therapy   2000   \n",
      "2           3   32  Female  Fractured Arm          X-Ray and Splint    500   \n",
      "3           4   75    Male         Stroke    CT Scan and Medication  10000   \n",
      "4           5   50  Female         Cancer  Surgery and Chemotherapy  25000   \n",
      "\n",
      "   Length_of_Stay Readmission    Outcome  Satisfaction  \n",
      "0               5          No  Recovered             4  \n",
      "1               3         Yes     Stable             3  \n",
      "2               1          No  Recovered             5  \n",
      "3               7         Yes     Stable             2  \n",
      "4              10          No  Recovered             4  \n",
      "     Patient_ID  Age  Gender          Condition                  Procedure  \\\n",
      "979         996   68    Male       Hypertension  Medication and Counseling   \n",
      "980         997   45  Female       Appendicitis               Appendectomy   \n",
      "981         998   40    Male      Fractured Leg  Cast and Physical Therapy   \n",
      "982         999   78  Female       Heart Attack    Cardiac Catheterization   \n",
      "983        1000   25    Male  Allergic Reaction      Epinephrine Injection   \n",
      "\n",
      "      Cost  Length_of_Stay Readmission    Outcome  Satisfaction  \n",
      "979   1000              70          No     Stable             4  \n",
      "980   8000              72          No  Recovered             3  \n",
      "981   3000              72          No  Recovered             4  \n",
      "982  18000              74         Yes     Stable             2  \n",
      "983    100              68          No  Recovered             5  \n",
      "(984, 10)\n",
      "Index(['Patient_ID', 'Age', 'Gender', 'Condition', 'Procedure', 'Cost',\n",
      "       'Length_of_Stay', 'Readmission', 'Outcome', 'Satisfaction'],\n",
      "      dtype='object')\n",
      "Patient_ID        0\n",
      "Age               0\n",
      "Gender            0\n",
      "Condition         0\n",
      "Procedure         0\n",
      "Cost              0\n",
      "Length_of_Stay    0\n",
      "Readmission       0\n",
      "Outcome           0\n",
      "Satisfaction      0\n",
      "dtype: int64\n"
     ]
    }
   ],
   "source": [
    "print(df)\n",
    "print(df.head())\n",
    "print(df.tail())\n",
    "print(df.shape)\n",
    "print(df.columns)\n",
    "print(df.isnull().sum())"
   ]
  },
  {
   "cell_type": "code",
   "execution_count": 3,
   "id": "1361bbb0-3c5b-42ef-8feb-be8e8e494db6",
   "metadata": {},
   "outputs": [
    {
     "name": "stdout",
     "output_type": "stream",
     "text": [
      "     Patient_ID  Age  Gender          Condition                  Procedure  \\\n",
      "0             1   45  Female      Heart Disease                Angioplasty   \n",
      "1             2   60    Male           Diabetes            Insulin Therapy   \n",
      "2             3   32  Female      Fractured Arm           X-Ray and Splint   \n",
      "3             4   75    Male             Stroke     CT Scan and Medication   \n",
      "4             5   50  Female             Cancer   Surgery and Chemotherapy   \n",
      "..          ...  ...     ...                ...                        ...   \n",
      "979         996   68    Male       Hypertension  Medication and Counseling   \n",
      "980         997   45  Female       Appendicitis               Appendectomy   \n",
      "981         998   40    Male      Fractured Leg  Cast and Physical Therapy   \n",
      "982         999   78  Female       Heart Attack    Cardiac Catheterization   \n",
      "983        1000   25    Male  Allergic Reaction      Epinephrine Injection   \n",
      "\n",
      "      Cost  Length_of_Stay Readmission    Outcome  \n",
      "0    15000               5          No  Recovered  \n",
      "1     2000               3         Yes     Stable  \n",
      "2      500               1          No  Recovered  \n",
      "3    10000               7         Yes     Stable  \n",
      "4    25000              10          No  Recovered  \n",
      "..     ...             ...         ...        ...  \n",
      "979   1000              70          No     Stable  \n",
      "980   8000              72          No  Recovered  \n",
      "981   3000              72          No  Recovered  \n",
      "982  18000              74         Yes     Stable  \n",
      "983    100              68          No  Recovered  \n",
      "\n",
      "[984 rows x 9 columns]\n"
     ]
    }
   ],
   "source": [
    "df.drop([\"Satisfaction\"],axis=1,inplace=True)\n",
    "print(df)"
   ]
  },
  {
   "cell_type": "code",
   "execution_count": 4,
   "id": "1a5328b5-1c25-4733-969e-64d9d79d5cb4",
   "metadata": {},
   "outputs": [
    {
     "name": "stdout",
     "output_type": "stream",
     "text": [
      "     Patient_ID  Age  Gender  Condition  Procedure   Cost  Length_of_Stay  \\\n",
      "0             1   45       0          8          0  15000               5   \n",
      "1             2   60       1          4          8   2000               3   \n",
      "2             3   32       0          5         14    500               1   \n",
      "3             4   75       1         14          3  10000               7   \n",
      "4             5   50       0          2         13  25000              10   \n",
      "..          ...  ...     ...        ...        ...    ...             ...   \n",
      "979         996   68       1          9         10   1000              70   \n",
      "980         997   45       0          1          2   8000              72   \n",
      "981         998   40       1          6          5   3000              72   \n",
      "982         999   78       0          7          4  18000              74   \n",
      "983        1000   25       1          0          7    100              68   \n",
      "\n",
      "     Readmission  Outcome  \n",
      "0              0        0  \n",
      "1              1        1  \n",
      "2              0        0  \n",
      "3              1        1  \n",
      "4              0        0  \n",
      "..           ...      ...  \n",
      "979            0        1  \n",
      "980            0        0  \n",
      "981            0        0  \n",
      "982            1        1  \n",
      "983            0        0  \n",
      "\n",
      "[984 rows x 9 columns]\n"
     ]
    }
   ],
   "source": [
    "e=LabelEncoder()\n",
    "df[\"Gender\"]=e.fit_transform(df[\"Gender\"])\n",
    "df[\"Condition\"]=e.fit_transform(df[\"Condition\"])\n",
    "df[\"Procedure\"]=e.fit_transform(df[\"Procedure\"])\n",
    "df[\"Readmission\"]=e.fit_transform(df[\"Readmission\"])\n",
    "df[\"Outcome\"]=e.fit_transform(df[\"Outcome\"])\n",
    "print(df)"
   ]
  },
  {
   "cell_type": "code",
   "execution_count": 5,
   "id": "afe71c6f-45f3-4d1a-bb04-d0817b3277bf",
   "metadata": {},
   "outputs": [
    {
     "name": "stdout",
     "output_type": "stream",
     "text": [
      "787\n",
      "787\n"
     ]
    }
   ],
   "source": [
    "x=df.drop(\"Readmission\",axis=1)\n",
    "y=df[\"Readmission\"]\n",
    "x_train, x_test, y_train, y_test = train_test_split(x, y, test_size=0.2, random_state=42)\n",
    "print(len(x_train))\n",
    "print(len(y_train))\n",
    "scaler=StandardScaler()\n",
    "x_train_scaled=scaler.fit_transform(x_train)\n",
    "x_test_scaled=scaler.transform(x_test)\n"
   ]
  },
  {
   "cell_type": "code",
   "execution_count": 6,
   "id": "f5a2beff-8e8b-4741-9ebd-be598b1735c3",
   "metadata": {},
   "outputs": [
    {
     "name": "stdout",
     "output_type": "stream",
     "text": [
      "Accuracy:87.31%\n",
      "confusion matrix:\n",
      " [[128  10]\n",
      " [ 15  44]]\n",
      "\n",
      "classification report:\n",
      "               precision    recall  f1-score   support\n",
      "\n",
      "           0       0.90      0.93      0.91       138\n",
      "           1       0.81      0.75      0.78        59\n",
      "\n",
      "    accuracy                           0.87       197\n",
      "   macro avg       0.85      0.84      0.84       197\n",
      "weighted avg       0.87      0.87      0.87       197\n",
      "\n"
     ]
    }
   ],
   "source": [
    "model=LogisticRegression(max_iter=1000)\n",
    "model.fit(x_train,y_train)\n",
    "y_pred=model.predict(x_test)\n",
    "accuracy=accuracy_score(y_test,y_pred)\n",
    "print(\"Accuracy:{:.2f}%\".format(accuracy * 100))\n",
    "print(\"confusion matrix:\\n\",confusion_matrix(y_test,y_pred))\n",
    "print(\"\\nclassification report:\\n\", classification_report(y_test,y_pred))"
   ]
  },
  {
   "cell_type": "code",
   "execution_count": 7,
   "id": "94865b85-34e3-49b1-a70a-25d405dd6cda",
   "metadata": {},
   "outputs": [
    {
     "name": "stdout",
     "output_type": "stream",
     "text": [
      "        Patient_ID         Age      Gender   Condition   Procedure  \\\n",
      "count   984.000000  984.000000  984.000000  984.000000  984.000000   \n",
      "mean    500.329268   53.754065    0.467480    6.982724    6.992886   \n",
      "std     288.979531   14.941135    0.499195    4.320891    4.319978   \n",
      "min       1.000000   25.000000    0.000000    0.000000    0.000000   \n",
      "25%     250.750000   45.000000    0.000000    3.000000    3.000000   \n",
      "50%     500.500000   55.000000    0.000000    7.000000    7.000000   \n",
      "75%     750.250000   65.000000    1.000000   11.000000   11.000000   \n",
      "max    1000.000000   78.000000    1.000000   14.000000   14.000000   \n",
      "\n",
      "               Cost  Length_of_Stay  Readmission     Outcome  \n",
      "count    984.000000      984.000000   984.000000  984.000000  \n",
      "mean    8367.479675       37.663618     0.268293    0.399390  \n",
      "std     7761.990976       19.595805     0.443296    0.490022  \n",
      "min      100.000000        1.000000     0.000000    0.000000  \n",
      "25%     1000.000000       21.000000     0.000000    0.000000  \n",
      "50%     6000.000000       38.000000     0.000000    0.000000  \n",
      "75%    15000.000000       54.250000     1.000000    1.000000  \n",
      "max    25000.000000       76.000000     1.000000    1.000000  \n",
      "                Patient_ID       Age    Gender  Condition  Procedure  \\\n",
      "Patient_ID        1.000000 -0.002935 -0.000673  -0.000708   0.001588   \n",
      "Age              -0.002935  1.000000  0.132456   0.558903  -0.093978   \n",
      "Gender           -0.000673  0.132456  1.000000   0.187684   0.152498   \n",
      "Condition        -0.000708  0.558903  0.187684   1.000000  -0.105354   \n",
      "Procedure         0.001588 -0.093978  0.152498  -0.105354   1.000000   \n",
      "Cost             -0.004168  0.303816 -0.287602  -0.011100   0.048680   \n",
      "Length_of_Stay    0.989917  0.075080 -0.002835   0.025847   0.007458   \n",
      "Readmission      -0.001476  0.228841 -0.411046  -0.070339  -0.273110   \n",
      "Outcome          -0.000764  0.694406  0.055230   0.505343  -0.160125   \n",
      "\n",
      "                    Cost  Length_of_Stay  Readmission   Outcome  \n",
      "Patient_ID     -0.004168        0.989917    -0.001476 -0.000764  \n",
      "Age             0.303816        0.075080     0.228841  0.694406  \n",
      "Gender         -0.287602       -0.002835    -0.411046  0.055230  \n",
      "Condition      -0.011100        0.025847    -0.070339  0.505343  \n",
      "Procedure       0.048680        0.007458    -0.273110 -0.160125  \n",
      "Cost            1.000000        0.114206     0.412281 -0.245640  \n",
      "Length_of_Stay  0.114206        1.000000     0.046704 -0.002839  \n",
      "Readmission     0.412281        0.046704     1.000000 -0.020789  \n",
      "Outcome        -0.245640       -0.002839    -0.020789  1.000000  \n"
     ]
    },
    {
     "data": {
      "image/png": "[encoded data removed]",
      "text/plain": [
       "<Figure size 1000x1000 with 2 Axes>"
      ]
     },
     "metadata": {},
     "output_type": "display_data"
    }
   ],
   "source": [
    "print(df.describe())\n",
    "print(df.corr())\n",
    "plt.figure(figsize=(10,10))\n",
    "sns.heatmap(df.corr())\n",
    "plt.show()"
   ]
  }
 ],
 "metadata": {
  "kernelspec": {
   "display_name": "Python [conda env:base] *",
   "language": "python",
   "name": "conda-base-py"
  },
  "language_info": {
   "codemirror_mode": {
    "name": "ipython",
    "version": 3
   },
   "file_extension": ".py",
   "mimetype": "text/x-python",
   "name": "python",
   "nbconvert_exporter": "python",
   "pygments_lexer": "ipython3",
   "version": "3.12.7"
  }
 },
 "nbformat": 4,
 "nbformat_minor": 5
}
